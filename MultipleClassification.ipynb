{
  "nbformat": 4,
  "nbformat_minor": 0,
  "metadata": {
    "colab": {
      "provenance": [],
      "gpuType": "T4",
      "authorship_tag": "ABX9TyNh8k9b8I0G/PlBFpZnAalC",
      "include_colab_link": true
    },
    "kernelspec": {
      "name": "python3",
      "display_name": "Python 3"
    },
    "language_info": {
      "name": "python"
    },
    "accelerator": "GPU"
  },
  "cells": [
    {
      "cell_type": "markdown",
      "metadata": {
        "id": "view-in-github",
        "colab_type": "text"
      },
      "source": [
        "<a href=\"https://colab.research.google.com/github/David-S-Botero/MultipleClassification/blob/main/MultipleClassification.ipynb\" target=\"_parent\"><img src=\"https://colab.research.google.com/assets/colab-badge.svg\" alt=\"Open In Colab\"/></a>"
      ]
    },
    {
      "cell_type": "code",
      "execution_count": null,
      "metadata": {
        "id": "PBOO6jtJ6y0E"
      },
      "outputs": [],
      "source": [
        "import numpy as np\n",
        "from keras import layers, models\n",
        "from keras.datasets import reuters"
      ]
    },
    {
      "cell_type": "code",
      "source": [
        "(train_data, train_labels), (test_data, test_labels) = reuters.load_data(num_words = 10000)"
      ],
      "metadata": {
        "colab": {
          "base_uri": "https://localhost:8080/"
        },
        "id": "L6N-WHzR64UX",
        "outputId": "ac56473d-76c3-42eb-806b-fd7d5f15509b"
      },
      "execution_count": null,
      "outputs": [
        {
          "output_type": "stream",
          "name": "stdout",
          "text": [
            "Downloading data from https://storage.googleapis.com/tensorflow/tf-keras-datasets/reuters.npz\n",
            "2110848/2110848 [==============================] - 1s 1us/step\n"
          ]
        }
      ]
    },
    {
      "cell_type": "code",
      "source": [
        "word_index = reuters.get_word_index()\n",
        "word_index = dict([(value, key) for key,value in word_index.items()])\n",
        "for _ in train_data[0]:\n",
        "  print(word_index.get(_ -3))"
      ],
      "metadata": {
        "id": "MJ18N34L7RVS"
      },
      "execution_count": null,
      "outputs": []
    },
    {
      "cell_type": "code",
      "source": [
        "def vectorizar(sequences, dim=10000):\n",
        "  results = np.zeros((len(sequences),dim))\n",
        "  for i, sequences in enumerate(sequences):\n",
        "    results[i,sequences]=1\n",
        "  return results"
      ],
      "metadata": {
        "id": "3cNPDZsf7f76"
      },
      "execution_count": null,
      "outputs": []
    },
    {
      "cell_type": "code",
      "source": [
        "X_train = vectorizar(train_data)\n",
        "X_test = vectorizar(test_data)"
      ],
      "metadata": {
        "id": "JoxvkyVl9zO_"
      },
      "execution_count": null,
      "outputs": []
    },
    {
      "cell_type": "code",
      "source": [
        "from keras.utils import to_categorical"
      ],
      "metadata": {
        "id": "N_l-eOtT96VX"
      },
      "execution_count": null,
      "outputs": []
    },
    {
      "cell_type": "code",
      "source": [
        "y_train = to_categorical(train_labels)\n",
        "y_test = to_categorical(test_labels)"
      ],
      "metadata": {
        "id": "MYI7CF69-aN4"
      },
      "execution_count": null,
      "outputs": []
    },
    {
      "cell_type": "code",
      "source": [
        "model = models.Sequential()\n",
        "model.add(layers.Dense(64,activation='relu',input_shape = (10000,)))\n",
        "model.add(layers.Dense(64,activation='relu'))\n",
        "model.add(layers.Dense(46,activation='softmax'))"
      ],
      "metadata": {
        "id": "Q9Gb2X1E-p77"
      },
      "execution_count": 54,
      "outputs": []
    },
    {
      "cell_type": "code",
      "source": [
        "model.compile(optimizer='rmsprop', loss='categorical_crossentropy', metrics=['accuracy'])\n",
        "x_val = X_train[:1000]\n",
        "partial_x_train = X_train[1000:]\n",
        "y_val = y_train[:1000]\n",
        "partial_y_train = y_train[1000:]"
      ],
      "metadata": {
        "id": "i0aYpv6C_d1Y"
      },
      "execution_count": 55,
      "outputs": []
    },
    {
      "cell_type": "code",
      "source": [
        "history = model.fit(partial_x_train,\n",
        "          partial_y_train, \n",
        "          epochs=13,\n",
        "          batch_size=512,\n",
        "          validation_data=(x_val,y_val))"
      ],
      "metadata": {
        "colab": {
          "base_uri": "https://localhost:8080/"
        },
        "id": "lKcuxd2fA8HE",
        "outputId": "de06e7bc-f509-4d82-c91a-0264fa5bfbfb"
      },
      "execution_count": 56,
      "outputs": [
        {
          "output_type": "stream",
          "name": "stdout",
          "text": [
            "Epoch 1/13\n",
            "16/16 [==============================] - 1s 35ms/step - loss: 2.6509 - accuracy: 0.4987 - val_loss: 1.7740 - val_accuracy: 0.6220\n",
            "Epoch 2/13\n",
            "16/16 [==============================] - 0s 19ms/step - loss: 1.4920 - accuracy: 0.6825 - val_loss: 1.3494 - val_accuracy: 0.7020\n",
            "Epoch 3/13\n",
            "16/16 [==============================] - 0s 18ms/step - loss: 1.1496 - accuracy: 0.7491 - val_loss: 1.1679 - val_accuracy: 0.7410\n",
            "Epoch 4/13\n",
            "16/16 [==============================] - 0s 18ms/step - loss: 0.9404 - accuracy: 0.7959 - val_loss: 1.0744 - val_accuracy: 0.7650\n",
            "Epoch 5/13\n",
            "16/16 [==============================] - 0s 19ms/step - loss: 0.7868 - accuracy: 0.8281 - val_loss: 1.0203 - val_accuracy: 0.7830\n",
            "Epoch 6/13\n",
            "16/16 [==============================] - 0s 18ms/step - loss: 0.6552 - accuracy: 0.8594 - val_loss: 0.9515 - val_accuracy: 0.8000\n",
            "Epoch 7/13\n",
            "16/16 [==============================] - 0s 19ms/step - loss: 0.5573 - accuracy: 0.8846 - val_loss: 0.9206 - val_accuracy: 0.8000\n",
            "Epoch 8/13\n",
            "16/16 [==============================] - 0s 18ms/step - loss: 0.4709 - accuracy: 0.8989 - val_loss: 0.9032 - val_accuracy: 0.8080\n",
            "Epoch 9/13\n",
            "16/16 [==============================] - 0s 22ms/step - loss: 0.3957 - accuracy: 0.9158 - val_loss: 0.8920 - val_accuracy: 0.8030\n",
            "Epoch 10/13\n",
            "16/16 [==============================] - 0s 21ms/step - loss: 0.3365 - accuracy: 0.9270 - val_loss: 0.8723 - val_accuracy: 0.8190\n",
            "Epoch 11/13\n",
            "16/16 [==============================] - 0s 19ms/step - loss: 0.2938 - accuracy: 0.9367 - val_loss: 0.9083 - val_accuracy: 0.8130\n",
            "Epoch 12/13\n",
            "16/16 [==============================] - 0s 20ms/step - loss: 0.2552 - accuracy: 0.9397 - val_loss: 0.8783 - val_accuracy: 0.8280\n",
            "Epoch 13/13\n",
            "16/16 [==============================] - 0s 18ms/step - loss: 0.2281 - accuracy: 0.9460 - val_loss: 0.8920 - val_accuracy: 0.8180\n"
          ]
        }
      ]
    },
    {
      "cell_type": "code",
      "source": [
        "import matplotlib.pyplot as plt\n",
        "\n",
        "history_dict = history.history\n",
        "loss = history_dict['loss']\n",
        "val_loss = history_dict['val_loss']\n",
        "val_accuracy = history_dict['val_accuracy']\n",
        "epochs = range(1, len(loss)+1)\n",
        "plt.figure(figsize=(10,10))\n",
        "plt.plot(epochs, loss, 'o', label='train')\n",
        "plt.plot(epochs, val_loss, '--', label='validation')\n",
        "plt.legend()\n",
        "plt.show()"
      ],
      "metadata": {
        "id": "9bkmU_0BBczZ",
        "colab": {
          "base_uri": "https://localhost:8080/",
          "height": 830
        },
        "outputId": "e96f65cf-b880-4488-d30c-8079c1e9a18a"
      },
      "execution_count": 48,
      "outputs": [
        {
          "output_type": "display_data",
          "data": {
            "text/plain": [
              "<Figure size 1000x1000 with 1 Axes>"
            ],
            "image/png": "[encoded data removed]"
          },
          "metadata": {}
        }
      ]
    },
    {
      "cell_type": "code",
      "source": [
        "history_dict = history.history\n",
        "loss = history_dict['loss']\n",
        "val_loss = history_dict['val_loss']\n",
        "val_accuracy = history_dict['val_accuracy']\n",
        "accuracy = history_dict['accuracy']\n",
        "epochs = range(1, len(loss)+1)\n",
        "plt.figure(figsize=(10,10))\n",
        "plt.plot(epochs, accuracy, 'o', label='train_accuracy')\n",
        "plt.plot(epochs, val_accuracy, '--', label='validation_accuracy')\n",
        "plt.legend()\n",
        "plt.show()"
      ],
      "metadata": {
        "colab": {
          "base_uri": "https://localhost:8080/",
          "height": 830
        },
        "id": "jbEeJ8trFcoO",
        "outputId": "afc47263-0ad5-4a8c-f59b-a77125cb8172"
      },
      "execution_count": 57,
      "outputs": [
        {
          "output_type": "display_data",
          "data": {
            "text/plain": [
              "<Figure size 1000x1000 with 1 Axes>"
            ],
            "image/png": "[encoded data removed]"
          },
          "metadata": {}
        }
      ]
    },
    {
      "cell_type": "code",
      "source": [
        "model.evaluate(X_test,y_test)"
      ],
      "metadata": {
        "colab": {
          "base_uri": "https://localhost:8080/"
        },
        "id": "DIlkKSR9Gbs5",
        "outputId": "4e77681c-44e0-4bfc-ec10-37750d31de9c"
      },
      "execution_count": 58,
      "outputs": [
        {
          "output_type": "stream",
          "name": "stdout",
          "text": [
            "71/71 [==============================] - 0s 4ms/step - loss: 0.9584 - accuracy: 0.7898\n"
          ]
        },
        {
          "output_type": "execute_result",
          "data": {
            "text/plain": [
              "[0.9583643674850464, 0.7898486256599426]"
            ]
          },
          "metadata": {},
          "execution_count": 58
        }
      ]
    },
    {
      "cell_type": "code",
      "source": [
        "predictions = model.predict(X_test)"
      ],
      "metadata": {
        "colab": {
          "base_uri": "https://localhost:8080/"
        },
        "id": "gqZT5ej6GqEZ",
        "outputId": "02a4a79d-50ab-4857-b596-9cddcb8aecf4"
      },
      "execution_count": 59,
      "outputs": [
        {
          "output_type": "stream",
          "name": "stdout",
          "text": [
            "71/71 [==============================] - 0s 3ms/step\n"
          ]
        }
      ]
    },
    {
      "cell_type": "code",
      "source": [
        "predictions[0]"
      ],
      "metadata": {
        "colab": {
          "base_uri": "https://localhost:8080/"
        },
        "id": "SP_BTeo6HUL_",
        "outputId": "5f52f81f-9e23-43a7-8e4b-2d336efab90e"
      },
      "execution_count": 60,
      "outputs": [
        {
          "output_type": "execute_result",
          "data": {
            "text/plain": [
              "array([2.1602671e-06, 2.9657322e-05, 6.3205116e-06, 9.4211245e-01,\n",
              "       5.5129535e-02, 9.4339708e-07, 2.7656943e-06, 7.6980422e-07,\n",
              "       2.2052623e-04, 4.3674108e-06, 3.5675436e-07, 1.5052830e-04,\n",
              "       4.5405568e-06, 5.2422174e-04, 2.8207210e-06, 4.0603591e-06,\n",
              "       9.6292415e-04, 2.2720362e-06, 4.8506172e-06, 1.3105832e-04,\n",
              "       1.5115133e-04, 1.5044937e-04, 2.7287467e-07, 1.4765885e-05,\n",
              "       2.5338200e-06, 6.4439496e-06, 1.2650779e-06, 2.5097936e-05,\n",
              "       5.0347893e-08, 4.9435777e-05, 1.9990342e-05, 1.1493664e-05,\n",
              "       2.2528473e-05, 4.1355514e-05, 1.0408605e-05, 2.2794747e-07,\n",
              "       1.9092664e-05, 7.2412176e-06, 6.5420909e-07, 1.5317521e-04,\n",
              "       1.0846262e-06, 8.4715266e-06, 1.8389406e-06, 6.7380279e-07,\n",
              "       2.8189249e-06, 3.4911989e-07], dtype=float32)"
            ]
          },
          "metadata": {},
          "execution_count": 60
        }
      ]
    },
    {
      "cell_type": "code",
      "source": [
        "plt.scatter(np.arange(len(predictions[0])),predictions[0])"
      ],
      "metadata": {
        "colab": {
          "base_uri": "https://localhost:8080/",
          "height": 447
        },
        "id": "OYo6TA7kHptS",
        "outputId": "b7df7746-70ca-4326-f879-670be91c8974"
      },
      "execution_count": 66,
      "outputs": [
        {
          "output_type": "execute_result",
          "data": {
            "text/plain": [
              "<matplotlib.collections.PathCollection at 0x7f9bb94293f0>"
            ]
          },
          "metadata": {},
          "execution_count": 66
        },
        {
          "output_type": "display_data",
          "data": {
            "text/plain": [
              "<Figure size 640x480 with 1 Axes>"
            ],
            "image/png": "[encoded data removed]"
          },
          "metadata": {}
        }
      ]
    },
    {
      "cell_type": "code",
      "source": [
        "np.sum(predictions[0])"
      ],
      "metadata": {
        "colab": {
          "base_uri": "https://localhost:8080/"
        },
        "id": "pvXOmPvCHXL4",
        "outputId": "ab2d87bb-2220-443c-b8b6-9030094ea51b"
      },
      "execution_count": 61,
      "outputs": [
        {
          "output_type": "execute_result",
          "data": {
            "text/plain": [
              "0.99999994"
            ]
          },
          "metadata": {},
          "execution_count": 61
        }
      ]
    },
    {
      "cell_type": "code",
      "source": [
        "np.argmax(predictions[0])"
      ],
      "metadata": {
        "colab": {
          "base_uri": "https://localhost:8080/"
        },
        "id": "bYOEWnHJHggs",
        "outputId": "3e545474-e90a-49e8-b5a5-20162cd31e98"
      },
      "execution_count": 62,
      "outputs": [
        {
          "output_type": "execute_result",
          "data": {
            "text/plain": [
              "3"
            ]
          },
          "metadata": {},
          "execution_count": 62
        }
      ]
    }
  ]
}